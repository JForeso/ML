{
 "cells": [
  {
   "cell_type": "markdown",
   "id": "1b940825",
   "metadata": {},
   "source": [
    "# RFP: Targeted Taco Bell Ads\n",
    "\n",
    "## Project Overview\n",
    "You are invited to submit a proposal that answers the following question:\n",
    "\n",
    "### What ad will you create and why?\n",
    "\n",
    "*Please submit your proposal by **1/30/25 at 11:59 PM**.*"
   ]
  },
  {
   "cell_type": "markdown",
   "id": "968a85f0",
   "metadata": {},
   "source": [
    "## Required Proposal Components\n",
    "\n",
    "### 1. Data Description\n",
    "In the code cell below, read in the data you will need to train and test your model. Call `info()` once you have read the data into a dataframe. Consider using some or all of the following sources:\n",
    "- [Customer Demographics](https://drive.google.com/file/d/1HK42Oa3bhhRDWR1y1wVBDAQ2tbNwg1gS/view?usp=sharing)\n",
    "- [Ad Response Data](https://drive.google.com/file/d/1cuLqXPNKhP66m5BP9BAlci2G--Vopt-Z/view?usp=sharing)\n",
    "\n",
    "*Note, a level 5 dataset combines these two data sets.*"
   ]
  },
  {
   "cell_type": "code",
   "execution_count": 1,
   "id": "08c1688a",
   "metadata": {},
   "outputs": [],
   "source": [
    "import pandas as pd\n",
    "import numpy as np"
   ]
  },
  {
   "cell_type": "code",
   "execution_count": 4,
   "id": "b8b95eaf",
   "metadata": {},
   "outputs": [],
   "source": [
    "df=pd.read_csv('customer_data.csv')\n",
    "df1=pd.read_csv('ad_data.csv')"
   ]
  },
  {
   "cell_type": "code",
   "execution_count": 5,
   "id": "49737e5a",
   "metadata": {},
   "outputs": [
    {
     "name": "stdout",
     "output_type": "stream",
     "text": [
      "<class 'pandas.core.frame.DataFrame'>\n",
      "RangeIndex: 10000 entries, 0 to 9999\n",
      "Data columns (total 7 columns):\n",
      " #   Column       Non-Null Count  Dtype  \n",
      "---  ------       --------------  -----  \n",
      " 0   customer_id  10000 non-null  int64  \n",
      " 1   state        10000 non-null  object \n",
      " 2   sex          10000 non-null  object \n",
      " 3   age          10000 non-null  float64\n",
      " 4   occupation   10000 non-null  object \n",
      " 5   family_size  10000 non-null  int64  \n",
      " 6   income       10000 non-null  int64  \n",
      "dtypes: float64(1), int64(3), object(3)\n",
      "memory usage: 547.0+ KB\n"
     ]
    }
   ],
   "source": [
    "df.info()"
   ]
  },
  {
   "cell_type": "code",
   "execution_count": 6,
   "id": "be59c151",
   "metadata": {},
   "outputs": [
    {
     "name": "stdout",
     "output_type": "stream",
     "text": [
      "<class 'pandas.core.frame.DataFrame'>\n",
      "RangeIndex: 10000 entries, 0 to 9999\n",
      "Data columns (total 6 columns):\n",
      " #   Column            Non-Null Count  Dtype \n",
      "---  ------            --------------  ----- \n",
      " 0   customer_id       10000 non-null  int64 \n",
      " 1   ad_type           10000 non-null  object\n",
      " 2   ad_medium         10000 non-null  object\n",
      " 3   ad_response       10000 non-null  bool  \n",
      " 4   items_purchased   10000 non-null  object\n",
      " 5   drinks_purchased  10000 non-null  object\n",
      "dtypes: bool(1), int64(1), object(4)\n",
      "memory usage: 400.5+ KB\n"
     ]
    }
   ],
   "source": [
    "df1.info()"
   ]
  },
  {
   "cell_type": "code",
   "execution_count": 7,
   "id": "effe3837",
   "metadata": {},
   "outputs": [],
   "source": [
    "df= pd.merge(df,df1,on='customer_id',how='inner')"
   ]
  },
  {
   "cell_type": "code",
   "execution_count": 8,
   "id": "4eb6360a",
   "metadata": {},
   "outputs": [
    {
     "data": {
      "text/html": [
       "<div>\n",
       "<style scoped>\n",
       "    .dataframe tbody tr th:only-of-type {\n",
       "        vertical-align: middle;\n",
       "    }\n",
       "\n",
       "    .dataframe tbody tr th {\n",
       "        vertical-align: top;\n",
       "    }\n",
       "\n",
       "    .dataframe thead th {\n",
       "        text-align: right;\n",
       "    }\n",
       "</style>\n",
       "<table border=\"1\" class=\"dataframe\">\n",
       "  <thead>\n",
       "    <tr style=\"text-align: right;\">\n",
       "      <th></th>\n",
       "      <th>customer_id</th>\n",
       "      <th>state</th>\n",
       "      <th>sex</th>\n",
       "      <th>age</th>\n",
       "      <th>occupation</th>\n",
       "      <th>family_size</th>\n",
       "      <th>income</th>\n",
       "      <th>ad_type</th>\n",
       "      <th>ad_medium</th>\n",
       "      <th>ad_response</th>\n",
       "      <th>items_purchased</th>\n",
       "      <th>drinks_purchased</th>\n",
       "    </tr>\n",
       "  </thead>\n",
       "  <tbody>\n",
       "    <tr>\n",
       "      <th>0</th>\n",
       "      <td>9167</td>\n",
       "      <td>MO</td>\n",
       "      <td>F</td>\n",
       "      <td>42.0</td>\n",
       "      <td>Food Service</td>\n",
       "      <td>1</td>\n",
       "      <td>40343</td>\n",
       "      <td>DISCOUNT-20%</td>\n",
       "      <td>Instagram photo ad</td>\n",
       "      <td>True</td>\n",
       "      <td>['mexican pizza', 'chicken quesadilla']</td>\n",
       "      <td>['mountain dew', 'mug root beer']</td>\n",
       "    </tr>\n",
       "    <tr>\n",
       "      <th>1</th>\n",
       "      <td>531</td>\n",
       "      <td>MI</td>\n",
       "      <td>F</td>\n",
       "      <td>36.0</td>\n",
       "      <td>Retail</td>\n",
       "      <td>4</td>\n",
       "      <td>41730</td>\n",
       "      <td>DISCOUNT-10%</td>\n",
       "      <td>Instagram photo ad</td>\n",
       "      <td>False</td>\n",
       "      <td>['steak garlic nacho fries', 'crunchy taco', '...</td>\n",
       "      <td>['mug root beer', 'iced tea', 'starry', 'iced ...</td>\n",
       "    </tr>\n",
       "    <tr>\n",
       "      <th>2</th>\n",
       "      <td>2265</td>\n",
       "      <td>CA</td>\n",
       "      <td>F</td>\n",
       "      <td>25.0</td>\n",
       "      <td>IT</td>\n",
       "      <td>0</td>\n",
       "      <td>84024</td>\n",
       "      <td>DISCOUNT-20%</td>\n",
       "      <td>15 sec YouTube ad</td>\n",
       "      <td>False</td>\n",
       "      <td>['chicken quesadilla']</td>\n",
       "      <td>['mug root beer']</td>\n",
       "    </tr>\n",
       "    <tr>\n",
       "      <th>3</th>\n",
       "      <td>7550</td>\n",
       "      <td>VA</td>\n",
       "      <td>M</td>\n",
       "      <td>38.0</td>\n",
       "      <td>Food Service</td>\n",
       "      <td>2</td>\n",
       "      <td>38990</td>\n",
       "      <td>BOGO - Garlic Steak Nacho Fries</td>\n",
       "      <td>15 sec YouTube ad</td>\n",
       "      <td>True</td>\n",
       "      <td>['steak garlic nacho fries', 'steak garlic nac...</td>\n",
       "      <td>['pepsi', 'diet pepsi', 'diet pepsi']</td>\n",
       "    </tr>\n",
       "    <tr>\n",
       "      <th>4</th>\n",
       "      <td>5334</td>\n",
       "      <td>MT</td>\n",
       "      <td>M</td>\n",
       "      <td>35.0</td>\n",
       "      <td>Food Service</td>\n",
       "      <td>1</td>\n",
       "      <td>33400</td>\n",
       "      <td>DISCOUNT-20%</td>\n",
       "      <td>15 sec YouTube ad</td>\n",
       "      <td>False</td>\n",
       "      <td>['spicy potato soft taco', 'nachos bellgrande']</td>\n",
       "      <td>['gatorade', 'baja blast']</td>\n",
       "    </tr>\n",
       "    <tr>\n",
       "      <th>...</th>\n",
       "      <td>...</td>\n",
       "      <td>...</td>\n",
       "      <td>...</td>\n",
       "      <td>...</td>\n",
       "      <td>...</td>\n",
       "      <td>...</td>\n",
       "      <td>...</td>\n",
       "      <td>...</td>\n",
       "      <td>...</td>\n",
       "      <td>...</td>\n",
       "      <td>...</td>\n",
       "      <td>...</td>\n",
       "    </tr>\n",
       "    <tr>\n",
       "      <th>9995</th>\n",
       "      <td>3616</td>\n",
       "      <td>AL</td>\n",
       "      <td>F</td>\n",
       "      <td>47.0</td>\n",
       "      <td>Healthcare</td>\n",
       "      <td>3</td>\n",
       "      <td>143571</td>\n",
       "      <td>DISCOUNT-10%</td>\n",
       "      <td>30 sec Hulu commercial</td>\n",
       "      <td>False</td>\n",
       "      <td>['chicken quesadilla', 'steak garlic nacho fri...</td>\n",
       "      <td>['baja blast', 'baja blast', 'gatorade', 'iced...</td>\n",
       "    </tr>\n",
       "    <tr>\n",
       "      <th>9996</th>\n",
       "      <td>7670</td>\n",
       "      <td>NY</td>\n",
       "      <td>M</td>\n",
       "      <td>30.0</td>\n",
       "      <td>Retail</td>\n",
       "      <td>2</td>\n",
       "      <td>37865</td>\n",
       "      <td>DISCOUNT-5%</td>\n",
       "      <td>15 sec YouTube ad</td>\n",
       "      <td>False</td>\n",
       "      <td>['soft taco', 'chicken quesadilla', 'steak gar...</td>\n",
       "      <td>['gatorade', 'iced tea', 'mug root beer']</td>\n",
       "    </tr>\n",
       "    <tr>\n",
       "      <th>9997</th>\n",
       "      <td>7248</td>\n",
       "      <td>MO</td>\n",
       "      <td>F</td>\n",
       "      <td>42.0</td>\n",
       "      <td>Government</td>\n",
       "      <td>3</td>\n",
       "      <td>96691</td>\n",
       "      <td>BOGO - Garlic Steak Nacho Fries</td>\n",
       "      <td>15 sec YouTube ad</td>\n",
       "      <td>True</td>\n",
       "      <td>['steak garlic nacho fries', 'steak garlic nac...</td>\n",
       "      <td>['diet pepsi', 'iced tea', 'baja blast', 'brisk']</td>\n",
       "    </tr>\n",
       "    <tr>\n",
       "      <th>9998</th>\n",
       "      <td>7699</td>\n",
       "      <td>AZ</td>\n",
       "      <td>F</td>\n",
       "      <td>26.0</td>\n",
       "      <td>Government</td>\n",
       "      <td>1</td>\n",
       "      <td>62191</td>\n",
       "      <td>BOGO - Baja Blast</td>\n",
       "      <td>15 sec YouTube ad</td>\n",
       "      <td>True</td>\n",
       "      <td>['spicy potato soft taco', 'crunchy taco']</td>\n",
       "      <td>['baja blast', 'baja blast']</td>\n",
       "    </tr>\n",
       "    <tr>\n",
       "      <th>9999</th>\n",
       "      <td>2112</td>\n",
       "      <td>OH</td>\n",
       "      <td>M</td>\n",
       "      <td>35.0</td>\n",
       "      <td>Other</td>\n",
       "      <td>2</td>\n",
       "      <td>53155</td>\n",
       "      <td>REWARD - Free Baja Blast with purchase of $20 ...</td>\n",
       "      <td>Instagram photo ad</td>\n",
       "      <td>False</td>\n",
       "      <td>['crunchwrap supreme', 'chicken quesadilla', '...</td>\n",
       "      <td>['brisk', 'gatorade', 'brisk']</td>\n",
       "    </tr>\n",
       "  </tbody>\n",
       "</table>\n",
       "<p>10000 rows × 12 columns</p>\n",
       "</div>"
      ],
      "text/plain": [
       "      customer_id state sex   age    occupation  family_size  income  \\\n",
       "0            9167    MO   F  42.0  Food Service            1   40343   \n",
       "1             531    MI   F  36.0        Retail            4   41730   \n",
       "2            2265    CA   F  25.0            IT            0   84024   \n",
       "3            7550    VA   M  38.0  Food Service            2   38990   \n",
       "4            5334    MT   M  35.0  Food Service            1   33400   \n",
       "...           ...   ...  ..   ...           ...          ...     ...   \n",
       "9995         3616    AL   F  47.0    Healthcare            3  143571   \n",
       "9996         7670    NY   M  30.0        Retail            2   37865   \n",
       "9997         7248    MO   F  42.0    Government            3   96691   \n",
       "9998         7699    AZ   F  26.0    Government            1   62191   \n",
       "9999         2112    OH   M  35.0         Other            2   53155   \n",
       "\n",
       "                                                ad_type  \\\n",
       "0                                          DISCOUNT-20%   \n",
       "1                                          DISCOUNT-10%   \n",
       "2                                          DISCOUNT-20%   \n",
       "3                       BOGO - Garlic Steak Nacho Fries   \n",
       "4                                          DISCOUNT-20%   \n",
       "...                                                 ...   \n",
       "9995                                       DISCOUNT-10%   \n",
       "9996                                        DISCOUNT-5%   \n",
       "9997                    BOGO - Garlic Steak Nacho Fries   \n",
       "9998                                  BOGO - Baja Blast   \n",
       "9999  REWARD - Free Baja Blast with purchase of $20 ...   \n",
       "\n",
       "                   ad_medium  ad_response  \\\n",
       "0         Instagram photo ad         True   \n",
       "1         Instagram photo ad        False   \n",
       "2          15 sec YouTube ad        False   \n",
       "3          15 sec YouTube ad         True   \n",
       "4          15 sec YouTube ad        False   \n",
       "...                      ...          ...   \n",
       "9995  30 sec Hulu commercial        False   \n",
       "9996       15 sec YouTube ad        False   \n",
       "9997       15 sec YouTube ad         True   \n",
       "9998       15 sec YouTube ad         True   \n",
       "9999      Instagram photo ad        False   \n",
       "\n",
       "                                        items_purchased  \\\n",
       "0               ['mexican pizza', 'chicken quesadilla']   \n",
       "1     ['steak garlic nacho fries', 'crunchy taco', '...   \n",
       "2                                ['chicken quesadilla']   \n",
       "3     ['steak garlic nacho fries', 'steak garlic nac...   \n",
       "4       ['spicy potato soft taco', 'nachos bellgrande']   \n",
       "...                                                 ...   \n",
       "9995  ['chicken quesadilla', 'steak garlic nacho fri...   \n",
       "9996  ['soft taco', 'chicken quesadilla', 'steak gar...   \n",
       "9997  ['steak garlic nacho fries', 'steak garlic nac...   \n",
       "9998         ['spicy potato soft taco', 'crunchy taco']   \n",
       "9999  ['crunchwrap supreme', 'chicken quesadilla', '...   \n",
       "\n",
       "                                       drinks_purchased  \n",
       "0                     ['mountain dew', 'mug root beer']  \n",
       "1     ['mug root beer', 'iced tea', 'starry', 'iced ...  \n",
       "2                                     ['mug root beer']  \n",
       "3                 ['pepsi', 'diet pepsi', 'diet pepsi']  \n",
       "4                            ['gatorade', 'baja blast']  \n",
       "...                                                 ...  \n",
       "9995  ['baja blast', 'baja blast', 'gatorade', 'iced...  \n",
       "9996          ['gatorade', 'iced tea', 'mug root beer']  \n",
       "9997  ['diet pepsi', 'iced tea', 'baja blast', 'brisk']  \n",
       "9998                       ['baja blast', 'baja blast']  \n",
       "9999                     ['brisk', 'gatorade', 'brisk']  \n",
       "\n",
       "[10000 rows x 12 columns]"
      ]
     },
     "execution_count": 8,
     "metadata": {},
     "output_type": "execute_result"
    }
   ],
   "source": [
    "df"
   ]
  },
  {
   "cell_type": "code",
   "execution_count": 9,
   "id": "0bbfe8ae",
   "metadata": {},
   "outputs": [
    {
     "name": "stdout",
     "output_type": "stream",
     "text": [
      "<class 'pandas.core.frame.DataFrame'>\n",
      "Int64Index: 10000 entries, 0 to 9999\n",
      "Data columns (total 12 columns):\n",
      " #   Column            Non-Null Count  Dtype  \n",
      "---  ------            --------------  -----  \n",
      " 0   customer_id       10000 non-null  int64  \n",
      " 1   state             10000 non-null  object \n",
      " 2   sex               10000 non-null  object \n",
      " 3   age               10000 non-null  float64\n",
      " 4   occupation        10000 non-null  object \n",
      " 5   family_size       10000 non-null  int64  \n",
      " 6   income            10000 non-null  int64  \n",
      " 7   ad_type           10000 non-null  object \n",
      " 8   ad_medium         10000 non-null  object \n",
      " 9   ad_response       10000 non-null  bool   \n",
      " 10  items_purchased   10000 non-null  object \n",
      " 11  drinks_purchased  10000 non-null  object \n",
      "dtypes: bool(1), float64(1), int64(3), object(7)\n",
      "memory usage: 947.3+ KB\n"
     ]
    }
   ],
   "source": [
    "df.info()"
   ]
  },
  {
   "cell_type": "code",
   "execution_count": null,
   "id": "42010d28",
   "metadata": {},
   "outputs": [],
   "source": []
  },
  {
   "cell_type": "code",
   "execution_count": null,
   "id": "b54a6b6b",
   "metadata": {},
   "outputs": [],
   "source": []
  },
  {
   "cell_type": "markdown",
   "id": "880ff05f",
   "metadata": {},
   "source": [
    "### 2. Training Your Model\n",
    "In the cell seen below, write the code you need to train a K-means clustering model. Make sure you describe the center of each cluster found.\n",
    "\n",
    "*Note, level 5 work uses at least 3 features to train a K-means model using only the standard Python library and Pandas. A level 4 uses external libraries like scikit or numpy.*"
   ]
  },
  {
   "cell_type": "code",
   "execution_count": 3,
   "id": "a87a9144",
   "metadata": {},
   "outputs": [],
   "source": [
    "# Train model here."
   ]
  },
  {
   "cell_type": "markdown",
   "id": "0fe52f67",
   "metadata": {},
   "source": [
    "#### Don't forget to describe the centers of the clusters you found."
   ]
  },
  {
   "cell_type": "markdown",
   "id": "cfb2b903",
   "metadata": {},
   "source": [
    "### 3. Testing Your Model\n",
    "In the cell seen below, write the code you need to test your K-means model. Then, interpret your findings.\n",
    "\n",
    "*Note, level 5 testing uses both an elbow plot and a silhouette score to evaluate your model. Level 4 uses one or the other.*"
   ]
  },
  {
   "cell_type": "code",
   "execution_count": 2,
   "id": "24f8b990",
   "metadata": {},
   "outputs": [],
   "source": [
    "# Test model here."
   ]
  },
  {
   "cell_type": "markdown",
   "id": "32a8c369",
   "metadata": {},
   "source": [
    "#### Interpret your elbow plot and/or silhouette score here."
   ]
  },
  {
   "cell_type": "markdown",
   "id": "343eb3f7",
   "metadata": {},
   "source": [
    "### 4. Final Answer\n",
    "\n",
    "In the first cell seen below, describe the cluster you have chosen to target with your ad, making sure to describe the type of ad they were the most likely to respond to. Then, use software of your choosing to create the ad you will need to target this cluster. You do not need to create an ad for both the nacho fries and the Baja Blast. You can focus on one if that's what your cluster cares about most.\n",
    "\n",
    "In the second cell seen below, include a link to your ad.\n",
    "\n",
    "*Note, a level 5 ad uses the medium (static image or video) the cluster most likely responded to.* "
   ]
  },
  {
   "cell_type": "markdown",
   "id": "25533722",
   "metadata": {},
   "source": [
    "#### Describe the cluster you are targeting here."
   ]
  },
  {
   "cell_type": "markdown",
   "id": "e29adde2",
   "metadata": {},
   "source": [
    "#### Link your ad here."
   ]
  }
 ],
 "metadata": {
  "kernelspec": {
   "display_name": "Python 3 (ipykernel)",
   "language": "python",
   "name": "python3"
  },
  "language_info": {
   "codemirror_mode": {
    "name": "ipython",
    "version": 3
   },
   "file_extension": ".py",
   "mimetype": "text/x-python",
   "name": "python",
   "nbconvert_exporter": "python",
   "pygments_lexer": "ipython3",
   "version": "3.9.13"
  }
 },
 "nbformat": 4,
 "nbformat_minor": 5
}
