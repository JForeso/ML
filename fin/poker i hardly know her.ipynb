{
 "cells": [
  {
   "cell_type": "code",
   "execution_count": 9,
   "id": "bc5651bb",
   "metadata": {},
   "outputs": [],
   "source": [
    "import pandas as pd\n",
    "import gymnasium as gym\n",
    "import os\n",
    "from ale_py import ALEInterface, roms\n",
    "import time\n",
    "import numpy as np\n",
    "import numpy as np\n",
    "import matplotlib.pyplot as plt\n",
    "import cv2\n",
    "import tensorflow as tf\n",
    "from tensorflow import keras\n",
    "from keras.models import Sequential\n",
    "from keras.layers import Conv2D, Flatten, Dense\n",
    "from keras.optimizers import Adam\n",
    "import random\n",
    "from collections import deque\n",
    "from keras import Input\n",
    "import pygetwindow as gw\n",
    "import pyautogui\n",
    "from PIL import Image\n",
    "import time\n",
    "from PIL import Image\n",
    "import imagehash\n",
    "from collections import defaultdict"
   ]
  },
  {
   "cell_type": "code",
   "execution_count": 4,
   "id": "eea0cd34",
   "metadata": {},
   "outputs": [],
   "source": [
    "window = gw.getWindowsWithTitle(\"Picture Poker\")[0]\n",
    "left, top, width, height = window.left, window.top, window.width, window.height\n",
    "screenshot = pyautogui.screenshot(region=(left, top, width, height))\n",
    "img = cv2.cvtColor(np.array(screenshot), cv2.COLOR_RGB2BGR)"
   ]
  },
  {
   "cell_type": "code",
   "execution_count": 5,
   "id": "2244bdca",
   "metadata": {},
   "outputs": [],
   "source": [
    "def gary(image):\n",
    "    gar=cv2.cvtColor(image,cv2.COLOR_RGB2GRAY)\n",
    "    crap=gar[1500:-20, 500:-500]\n",
    "    resized = cv2.resize(crap, (84, 84), interpolation=cv2.INTER_AREA)\n",
    "    return resized "
   ]
  },
  {
   "cell_type": "code",
   "execution_count": 6,
   "id": "1866fb42",
   "metadata": {},
   "outputs": [],
   "source": [
    "pros=gary(img)"
   ]
  },
  {
   "cell_type": "code",
   "execution_count": 7,
   "id": "90f8fa67",
   "metadata": {},
   "outputs": [
    {
     "data": {
      "image/png": "[encoded data removed]",
      "text/plain": [
       "<Figure size 640x480 with 1 Axes>"
      ]
     },
     "metadata": {},
     "output_type": "display_data"
    }
   ],
   "source": [
    "plt.imshow(pros,cmap='gray')\n",
    "plt.axis(\"off\")\n",
    "plt.show()"
   ]
  },
  {
   "cell_type": "code",
   "execution_count": 52,
   "id": "d65480a6",
   "metadata": {},
   "outputs": [],
   "source": [
    "#actions \n",
    "#pyautogui.click(x=2877, y=1557)\n",
    "#pyautogui.press('1')\n",
    "#pyautogui.press('2')\n",
    "#pyautogui.press('3')\n",
    "#pyautogui.press('4')\n",
    "#pyautogui.press('5')"
   ]
  },
  {
   "cell_type": "code",
   "execution_count": 56,
   "id": "89c30f96",
   "metadata": {},
   "outputs": [
    {
     "name": "stdout",
     "output_type": "stream",
     "text": [
      "(2875, 1548)\r"
     ]
    }
   ],
   "source": [
    "for i in range(50):\n",
    "    x, y = pyautogui.position()\n",
    "    print(f\"({x}, {y})\", end='\\r')\n",
    "    time.sleep(0.1)"
   ]
  },
  {
   "cell_type": "code",
   "execution_count": 16,
   "id": "d40b22ae",
   "metadata": {},
   "outputs": [],
   "source": [
    "def split(image):\n",
    "    cardw = image.shape[1] // 5\n",
    "    cards = [image[:, i*cardw:(i+1)*cardw] for i in range(5)]\n",
    "    return cards"
   ]
  },
  {
   "cell_type": "code",
   "execution_count": 17,
   "id": "cfefbb63",
   "metadata": {},
   "outputs": [],
   "source": [
    "def hash(card_image):\n",
    "    pil_img = Image.fromarray(card_image)\n",
    "    return imagehash.average_hash(pil_img)"
   ]
  },
  {
   "cell_type": "code",
   "execution_count": 18,
   "id": "717670a8",
   "metadata": {},
   "outputs": [],
   "source": [
    "def match(card_images):\n",
    "    hashes = [hash(card) for card in card_images]\n",
    "    groups = defaultdict(list)\n",
    "    for idx, h in enumerate(hashes):\n",
    "        matched = False\n",
    "        for key in groups:\n",
    "            if abs(h - key) <= 2:\n",
    "                groups[key].append(idx)\n",
    "                matched = True\n",
    "                break\n",
    "        if not matched:\n",
    "            groups[h].append(idx)\n",
    "    \n",
    "    return groups"
   ]
  },
  {
   "cell_type": "code",
   "execution_count": 19,
   "id": "275e4036",
   "metadata": {},
   "outputs": [],
   "source": [
    "def unmatched(groups):\n",
    "    for group in groups.values():\n",
    "        if len(group) == 1:\n",
    "            return group[0]\n",
    "    return None"
   ]
  },
  {
   "cell_type": "code",
   "execution_count": 22,
   "id": "381449ad",
   "metadata": {},
   "outputs": [
    {
     "ename": "NameError",
     "evalue": "name 'card_imgs' is not defined",
     "output_type": "error",
     "traceback": [
      "\u001b[1;31m---------------------------------------------------------------------------\u001b[0m",
      "\u001b[1;31mNameError\u001b[0m                                 Traceback (most recent call last)",
      "\u001b[1;32m~\\AppData\\Local\\Temp\\ipykernel_1748\\2148917455.py\u001b[0m in \u001b[0;36m<module>\u001b[1;34m\u001b[0m\n\u001b[0;32m      1\u001b[0m \u001b[0mpros\u001b[0m \u001b[1;33m=\u001b[0m \u001b[0mgary\u001b[0m\u001b[1;33m(\u001b[0m\u001b[0mimg\u001b[0m\u001b[1;33m)\u001b[0m  \u001b[1;31m# Your preprocessed screenshot\u001b[0m\u001b[1;33m\u001b[0m\u001b[1;33m\u001b[0m\u001b[0m\n\u001b[0;32m      2\u001b[0m \u001b[0mcard_img\u001b[0m \u001b[1;33m=\u001b[0m \u001b[0msplit\u001b[0m\u001b[1;33m(\u001b[0m\u001b[0mpros\u001b[0m\u001b[1;33m)\u001b[0m\u001b[1;33m\u001b[0m\u001b[1;33m\u001b[0m\u001b[0m\n\u001b[1;32m----> 3\u001b[1;33m \u001b[0mgroups\u001b[0m \u001b[1;33m=\u001b[0m \u001b[0mmatch\u001b[0m\u001b[1;33m(\u001b[0m\u001b[0mcard_imgs\u001b[0m\u001b[1;33m)\u001b[0m\u001b[1;33m\u001b[0m\u001b[1;33m\u001b[0m\u001b[0m\n\u001b[0m\u001b[0;32m      4\u001b[0m \u001b[0munmatched_idx\u001b[0m \u001b[1;33m=\u001b[0m \u001b[0munmatched\u001b[0m\u001b[1;33m(\u001b[0m\u001b[0mgroups\u001b[0m\u001b[1;33m)\u001b[0m\u001b[1;33m\u001b[0m\u001b[1;33m\u001b[0m\u001b[0m\n\u001b[0;32m      5\u001b[0m \u001b[1;33m\u001b[0m\u001b[0m\n",
      "\u001b[1;31mNameError\u001b[0m: name 'card_imgs' is not defined"
     ]
    }
   ],
   "source": [
    "pros = gary(img)  # Your preprocessed screenshot\n",
    "card_img = split(pros)\n",
    "groups = match(card_imgs)\n",
    "unmatched_idx = unmatched(groups)\n",
    "\n",
    "print(f\"Unmatched card index: {unmatched_idx}\")"
   ]
  },
  {
   "cell_type": "code",
   "execution_count": null,
   "id": "4626adb9",
   "metadata": {},
   "outputs": [],
   "source": []
  }
 ],
 "metadata": {
  "kernelspec": {
   "display_name": "Python 3 (ipykernel)",
   "language": "python",
   "name": "python3"
  },
  "language_info": {
   "codemirror_mode": {
    "name": "ipython",
    "version": 3
   },
   "file_extension": ".py",
   "mimetype": "text/x-python",
   "name": "python",
   "nbconvert_exporter": "python",
   "pygments_lexer": "ipython3",
   "version": "3.9.13"
  }
 },
 "nbformat": 4,
 "nbformat_minor": 5
}
