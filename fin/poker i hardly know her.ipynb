{
 "cells": [
  {
   "cell_type": "code",
   "execution_count": 58,
   "id": "bc5651bb",
   "metadata": {},
   "outputs": [],
   "source": [
    "import pandas as pd\n",
    "import gymnasium as gym\n",
    "import os\n",
    "from ale_py import ALEInterface, roms\n",
    "import time\n",
    "import numpy as np\n",
    "import numpy as np\n",
    "import matplotlib.pyplot as plt\n",
    "import cv2\n",
    "import tensorflow as tf\n",
    "from tensorflow import keras\n",
    "from keras.models import Sequential\n",
    "from keras.layers import Conv2D, Flatten, Dense\n",
    "from keras.optimizers import Adam\n",
    "import random\n",
    "from collections import deque\n",
    "from keras import Input\n",
    "import pygetwindow as gw\n",
    "import pyautogui\n",
    "from PIL import Image\n",
    "import time"
   ]
  },
  {
   "cell_type": "code",
   "execution_count": 12,
   "id": "eea0cd34",
   "metadata": {},
   "outputs": [],
   "source": [
    "window = gw.getWindowsWithTitle(\"Picture Poker\")[0]\n",
    "left, top, width, height = window.left, window.top, window.width, window.height\n",
    "screenshot = pyautogui.screenshot(region=(left, top, width, height))\n",
    "img = cv2.cvtColor(np.array(screenshot), cv2.COLOR_RGB2BGR)"
   ]
  },
  {
   "cell_type": "code",
   "execution_count": 48,
   "id": "2244bdca",
   "metadata": {},
   "outputs": [],
   "source": [
    "def gary(image):\n",
    "    gar=cv2.cvtColor(image,cv2.COLOR_RGB2GRAY)\n",
    "    crap=gar[1500:-20, 500:-500]\n",
    "    resized = cv2.resize(crap, (84, 84), interpolation=cv2.INTER_AREA)\n",
    "    return resized "
   ]
  },
  {
   "cell_type": "code",
   "execution_count": 49,
   "id": "1866fb42",
   "metadata": {},
   "outputs": [],
   "source": [
    "pros=gary(img)"
   ]
  },
  {
   "cell_type": "code",
   "execution_count": 59,
   "id": "90f8fa67",
   "metadata": {},
   "outputs": [
    {
     "data": {
      "image/png": "[encoded data removed]",
      "text/plain": [
       "<Figure size 640x480 with 1 Axes>"
      ]
     },
     "metadata": {},
     "output_type": "display_data"
    }
   ],
   "source": [
    "plt.imshow(pros,cmap='gray')\n",
    "plt.axis(\"off\")\n",
    "plt.show()"
   ]
  },
  {
   "cell_type": "code",
   "execution_count": 52,
   "id": "d65480a6",
   "metadata": {},
   "outputs": [],
   "source": [
    "#actions \n",
    "#pyautogui.click(x=2877, y=1557)\n",
    "#pyautogui.press('1')\n",
    "#pyautogui.press('2')\n",
    "#pyautogui.press('3')\n",
    "#pyautogui.press('4')\n",
    "#pyautogui.press('5')"
   ]
  },
  {
   "cell_type": "code",
   "execution_count": 56,
   "id": "89c30f96",
   "metadata": {},
   "outputs": [
    {
     "name": "stdout",
     "output_type": "stream",
     "text": [
      "(2875, 1548)\r"
     ]
    }
   ],
   "source": [
    "for i in range(50):\n",
    "    x, y = pyautogui.position()\n",
    "    print(f\"({x}, {y})\", end='\\r')\n",
    "    time.sleep(0.1)"
   ]
  },
  {
   "cell_type": "code",
   "execution_count": null,
   "id": "d40b22ae",
   "metadata": {},
   "outputs": [],
   "source": []
  },
  {
   "cell_type": "code",
   "execution_count": null,
   "id": "cfefbb63",
   "metadata": {},
   "outputs": [],
   "source": []
  }
 ],
 "metadata": {
  "kernelspec": {
   "display_name": "Python 3 (ipykernel)",
   "language": "python",
   "name": "python3"
  },
  "language_info": {
   "codemirror_mode": {
    "name": "ipython",
    "version": 3
   },
   "file_extension": ".py",
   "mimetype": "text/x-python",
   "name": "python",
   "nbconvert_exporter": "python",
   "pygments_lexer": "ipython3",
   "version": "3.9.13"
  }
 },
 "nbformat": 4,
 "nbformat_minor": 5
}
