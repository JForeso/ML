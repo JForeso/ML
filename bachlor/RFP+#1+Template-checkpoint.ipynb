{
 "cells": [
  {
   "cell_type": "markdown",
   "id": "1b940825",
   "metadata": {},
   "source": [
    "# RFP: Betting on the Bachelor\n",
    "\n",
    "## Project Overview\n",
    "You are invited to submit a proposal that answers the following question:\n",
    "\n",
    "### Who will win season 29 of the Bachelor?\n",
    "\n",
    "*All proposals must be submitted by **1/15/25 at 11:59 PM**.*"
   ]
  },
  {
   "cell_type": "markdown",
   "id": "968a85f0",
   "metadata": {},
   "source": [
    "## Required Proposal Components\n",
    "\n",
    "### 1. Data Description\n",
    "In the code cell below, read in the data you plan on using to train and test your model. Call `info()` once you have read the data into a dataframe. Consider using some or all of the following sources:\n",
    "- [Scrape Fandom Wikis](https://bachelor-nation.fandom.com/wiki/The_Bachelor) or [the official Bachelor website]('https://bachelornation.com/shows/the-bachelor/')\n",
    "- [Ask ChatGPT to genereate it](https://chatgpt.com/)\n",
    "- [Read in csv files like this](https://www.kaggle.com/datasets/brianbgonz/the-bachelor-contestants?select=contestants.csv)\n",
    "\n",
    "*Note, a level 5 dataset contains at least 1000 rows of non-null data. A level 4 contains at least 500 rows of non-null data.*"
   ]
  },
  {
   "cell_type": "code",
   "execution_count": 3,
   "id": "08c1688a",
   "metadata": {},
   "outputs": [],
   "source": [
    "# Read data into a dataframe.\n",
    "# Don't forget to call info()!"
   ]
  },
  {
   "cell_type": "code",
   "execution_count": 2,
   "id": "ff058312",
   "metadata": {},
   "outputs": [],
   "source": [
    "import pandas as pd\n",
    "import requests\n",
    "from bs4 import BeautifulSoup\n",
    "import random"
   ]
  },
  {
   "cell_type": "code",
   "execution_count": 89,
   "id": "b4fbfd5c",
   "metadata": {},
   "outputs": [],
   "source": [
    "\n",
    "to = []\n",
    "ti=[]"
   ]
  },
  {
   "cell_type": "code",
   "execution_count": 91,
   "id": "8e218397",
   "metadata": {},
   "outputs": [],
   "source": [
    "\n",
    "total_page = 1\n",
    "count=0\n",
    "for page in range(1, 2):\n",
    "    url = f\"https://en.wikipedia.org/wiki/The_Bachelor_(American_TV_series)_season_{page}\"\n",
    "    response = requests.get(url)\n",
    "    soup = BeautifulSoup(response.content, \"html.parser\")\n",
    "    to.append(soup)"
   ]
  },
  {
   "cell_type": "code",
   "execution_count": 93,
   "id": "74a389d9",
   "metadata": {},
   "outputs": [],
   "source": [
    "\n",
    "for soup in to:\n",
    "    titles = soup.find_all('td')\n",
    "    for title in titles:\n",
    "        ti.append(title.get_text(strip=True))"
   ]
  },
  {
   "cell_type": "code",
   "execution_count": 95,
   "id": "c8ecc607",
   "metadata": {},
   "outputs": [],
   "source": [
    "\n",
    "df = pd.DataFrame(ti, columns=['Name'])"
   ]
  },
  {
   "cell_type": "code",
   "execution_count": 97,
   "id": "6d4077c7",
   "metadata": {},
   "outputs": [
    {
     "data": {
      "text/html": [
       "<div>\n",
       "<style scoped>\n",
       "    .dataframe tbody tr th:only-of-type {\n",
       "        vertical-align: middle;\n",
       "    }\n",
       "\n",
       "    .dataframe tbody tr th {\n",
       "        vertical-align: top;\n",
       "    }\n",
       "\n",
       "    .dataframe thead th {\n",
       "        text-align: right;\n",
       "    }\n",
       "</style>\n",
       "<table border=\"1\" class=\"dataframe\">\n",
       "  <thead>\n",
       "    <tr style=\"text-align: right;\">\n",
       "      <th></th>\n",
       "      <th>Name</th>\n",
       "    </tr>\n",
       "  </thead>\n",
       "  <tbody>\n",
       "    <tr>\n",
       "      <th>0</th>\n",
       "      <td>Season 1</td>\n",
       "    </tr>\n",
       "    <tr>\n",
       "      <th>1</th>\n",
       "      <td>Promotional poster</td>\n",
       "    </tr>\n",
       "    <tr>\n",
       "      <th>2</th>\n",
       "      <td>Alex Michel</td>\n",
       "    </tr>\n",
       "    <tr>\n",
       "      <th>3</th>\n",
       "      <td></td>\n",
       "    </tr>\n",
       "    <tr>\n",
       "      <th>4</th>\n",
       "      <td>Chris Harrison</td>\n",
       "    </tr>\n",
       "    <tr>\n",
       "      <th>...</th>\n",
       "      <td>...</td>\n",
       "    </tr>\n",
       "    <tr>\n",
       "      <th>265</th>\n",
       "      <td>The BachelorAustralia1Tim Robards2345Matty Joh...</td>\n",
       "    </tr>\n",
       "    <tr>\n",
       "      <th>266</th>\n",
       "      <td>Australia1Tim Robards2345Matty Johnson6Nick Cu...</td>\n",
       "    </tr>\n",
       "    <tr>\n",
       "      <th>267</th>\n",
       "      <td>Australia1(Sam Frost)23(Sophie Monk)45(Angie K...</td>\n",
       "    </tr>\n",
       "    <tr>\n",
       "      <th>268</th>\n",
       "      <td>Australia123Canada12</td>\n",
       "    </tr>\n",
       "    <tr>\n",
       "      <th>269</th>\n",
       "      <td>The Bachelorand race</td>\n",
       "    </tr>\n",
       "  </tbody>\n",
       "</table>\n",
       "<p>270 rows × 1 columns</p>\n",
       "</div>"
      ],
      "text/plain": [
       "                                                  Name\n",
       "0                                             Season 1\n",
       "1                                   Promotional poster\n",
       "2                                          Alex Michel\n",
       "3                                                     \n",
       "4                                       Chris Harrison\n",
       "..                                                 ...\n",
       "265  The BachelorAustralia1Tim Robards2345Matty Joh...\n",
       "266  Australia1Tim Robards2345Matty Johnson6Nick Cu...\n",
       "267  Australia1(Sam Frost)23(Sophie Monk)45(Angie K...\n",
       "268                               Australia123Canada12\n",
       "269                               The Bachelorand race\n",
       "\n",
       "[270 rows x 1 columns]"
      ]
     },
     "execution_count": 97,
     "metadata": {},
     "output_type": "execute_result"
    }
   ],
   "source": [
    "\n",
    "df"
   ]
  },
  {
   "cell_type": "code",
   "execution_count": 11,
   "id": "724edead",
   "metadata": {},
   "outputs": [],
   "source": [
    "df1 = pd.read_csv('contestants.csv')\n"
   ]
  },
  {
   "cell_type": "code",
   "execution_count": 13,
   "id": "daaebb57",
   "metadata": {},
   "outputs": [
    {
     "name": "stdout",
     "output_type": "stream",
     "text": [
      "<class 'pandas.core.frame.DataFrame'>\n",
      "RangeIndex: 423 entries, 0 to 422\n",
      "Data columns (total 7 columns):\n",
      " #   Column      Non-Null Count  Dtype  \n",
      "---  ------      --------------  -----  \n",
      " 0   Name        423 non-null    object \n",
      " 1   Age         422 non-null    float64\n",
      " 2   Occupation  423 non-null    object \n",
      " 3   Hometown    423 non-null    object \n",
      " 4   Height      30 non-null     float64\n",
      " 5   ElimWeek    406 non-null    float64\n",
      " 6   Season      423 non-null    int64  \n",
      "dtypes: float64(3), int64(1), object(3)\n",
      "memory usage: 23.3+ KB\n"
     ]
    }
   ],
   "source": [
    "df1.info()"
   ]
  },
  {
   "cell_type": "code",
   "execution_count": 15,
   "id": "cec43424",
   "metadata": {},
   "outputs": [
    {
     "data": {
      "text/html": [
       "<div>\n",
       "<style scoped>\n",
       "    .dataframe tbody tr th:only-of-type {\n",
       "        vertical-align: middle;\n",
       "    }\n",
       "\n",
       "    .dataframe tbody tr th {\n",
       "        vertical-align: top;\n",
       "    }\n",
       "\n",
       "    .dataframe thead th {\n",
       "        text-align: right;\n",
       "    }\n",
       "</style>\n",
       "<table border=\"1\" class=\"dataframe\">\n",
       "  <thead>\n",
       "    <tr style=\"text-align: right;\">\n",
       "      <th></th>\n",
       "      <th>Name</th>\n",
       "      <th>Age</th>\n",
       "      <th>Occupation</th>\n",
       "      <th>Hometown</th>\n",
       "      <th>Height</th>\n",
       "      <th>ElimWeek</th>\n",
       "      <th>Season</th>\n",
       "    </tr>\n",
       "  </thead>\n",
       "  <tbody>\n",
       "    <tr>\n",
       "      <th>0</th>\n",
       "      <td>Amanda Marsh</td>\n",
       "      <td>23.0</td>\n",
       "      <td>Event Planner</td>\n",
       "      <td>Chanute, Kansas</td>\n",
       "      <td>NaN</td>\n",
       "      <td>NaN</td>\n",
       "      <td>1</td>\n",
       "    </tr>\n",
       "    <tr>\n",
       "      <th>1</th>\n",
       "      <td>Trista Rehn</td>\n",
       "      <td>29.0</td>\n",
       "      <td>Miami Heat Dancer</td>\n",
       "      <td>Miami, Florida</td>\n",
       "      <td>NaN</td>\n",
       "      <td>6.0</td>\n",
       "      <td>1</td>\n",
       "    </tr>\n",
       "    <tr>\n",
       "      <th>2</th>\n",
       "      <td>Shannon Oliver</td>\n",
       "      <td>24.0</td>\n",
       "      <td>Financial Management Consultant</td>\n",
       "      <td>Dallas, Texas</td>\n",
       "      <td>NaN</td>\n",
       "      <td>5.0</td>\n",
       "      <td>1</td>\n",
       "    </tr>\n",
       "    <tr>\n",
       "      <th>3</th>\n",
       "      <td>Kim</td>\n",
       "      <td>24.0</td>\n",
       "      <td>Nanny</td>\n",
       "      <td>Tempe, Arizona</td>\n",
       "      <td>NaN</td>\n",
       "      <td>4.0</td>\n",
       "      <td>1</td>\n",
       "    </tr>\n",
       "    <tr>\n",
       "      <th>4</th>\n",
       "      <td>Cathy Grimes</td>\n",
       "      <td>22.0</td>\n",
       "      <td>Graduate Student</td>\n",
       "      <td>Terra Haute, Indiana</td>\n",
       "      <td>NaN</td>\n",
       "      <td>3.0</td>\n",
       "      <td>1</td>\n",
       "    </tr>\n",
       "    <tr>\n",
       "      <th>...</th>\n",
       "      <td>...</td>\n",
       "      <td>...</td>\n",
       "      <td>...</td>\n",
       "      <td>...</td>\n",
       "      <td>...</td>\n",
       "      <td>...</td>\n",
       "      <td>...</td>\n",
       "    </tr>\n",
       "    <tr>\n",
       "      <th>418</th>\n",
       "      <td>Sarah</td>\n",
       "      <td>26.0</td>\n",
       "      <td>Grade School Teacher</td>\n",
       "      <td>Newport Beach, CA</td>\n",
       "      <td>65.0</td>\n",
       "      <td>4.0</td>\n",
       "      <td>21</td>\n",
       "    </tr>\n",
       "    <tr>\n",
       "      <th>419</th>\n",
       "      <td>Susannah</td>\n",
       "      <td>26.0</td>\n",
       "      <td>Account Manager</td>\n",
       "      <td>San Diego, CA</td>\n",
       "      <td>66.0</td>\n",
       "      <td>1.0</td>\n",
       "      <td>21</td>\n",
       "    </tr>\n",
       "    <tr>\n",
       "      <th>420</th>\n",
       "      <td>Taylor</td>\n",
       "      <td>23.0</td>\n",
       "      <td>Mental Health Counselor</td>\n",
       "      <td>Seattle, WA</td>\n",
       "      <td>64.0</td>\n",
       "      <td>5.0</td>\n",
       "      <td>21</td>\n",
       "    </tr>\n",
       "    <tr>\n",
       "      <th>421</th>\n",
       "      <td>Vanessa</td>\n",
       "      <td>29.0</td>\n",
       "      <td>Special Education Teacher</td>\n",
       "      <td>Montreal, Quebec, Canada</td>\n",
       "      <td>63.5</td>\n",
       "      <td>NaN</td>\n",
       "      <td>21</td>\n",
       "    </tr>\n",
       "    <tr>\n",
       "      <th>422</th>\n",
       "      <td>Whitney</td>\n",
       "      <td>25.0</td>\n",
       "      <td>Pilates Instructor</td>\n",
       "      <td>Chanhassen, MN</td>\n",
       "      <td>68.0</td>\n",
       "      <td>6.0</td>\n",
       "      <td>21</td>\n",
       "    </tr>\n",
       "  </tbody>\n",
       "</table>\n",
       "<p>423 rows × 7 columns</p>\n",
       "</div>"
      ],
      "text/plain": [
       "               Name   Age                       Occupation  \\\n",
       "0      Amanda Marsh  23.0                    Event Planner   \n",
       "1       Trista Rehn  29.0                Miami Heat Dancer   \n",
       "2    Shannon Oliver  24.0  Financial Management Consultant   \n",
       "3               Kim  24.0                            Nanny   \n",
       "4      Cathy Grimes  22.0                 Graduate Student   \n",
       "..              ...   ...                              ...   \n",
       "418           Sarah  26.0             Grade School Teacher   \n",
       "419        Susannah  26.0                  Account Manager   \n",
       "420          Taylor  23.0          Mental Health Counselor   \n",
       "421         Vanessa  29.0        Special Education Teacher   \n",
       "422         Whitney  25.0               Pilates Instructor   \n",
       "\n",
       "                     Hometown  Height  ElimWeek  Season  \n",
       "0             Chanute, Kansas     NaN       NaN       1  \n",
       "1              Miami, Florida     NaN       6.0       1  \n",
       "2               Dallas, Texas     NaN       5.0       1  \n",
       "3              Tempe, Arizona     NaN       4.0       1  \n",
       "4        Terra Haute, Indiana     NaN       3.0       1  \n",
       "..                        ...     ...       ...     ...  \n",
       "418         Newport Beach, CA    65.0       4.0      21  \n",
       "419             San Diego, CA    66.0       1.0      21  \n",
       "420               Seattle, WA    64.0       5.0      21  \n",
       "421  Montreal, Quebec, Canada    63.5       NaN      21  \n",
       "422            Chanhassen, MN    68.0       6.0      21  \n",
       "\n",
       "[423 rows x 7 columns]"
      ]
     },
     "execution_count": 15,
     "metadata": {},
     "output_type": "execute_result"
    }
   ],
   "source": [
    "df1"
   ]
  },
  {
   "cell_type": "code",
   "execution_count": 17,
   "id": "9419e225",
   "metadata": {},
   "outputs": [],
   "source": [
    "df1.drop('Height', axis=1,inplace=True)"
   ]
  },
  {
   "cell_type": "code",
   "execution_count": 21,
   "id": "dbf69a2b",
   "metadata": {},
   "outputs": [
    {
     "name": "stdout",
     "output_type": "stream",
     "text": [
      "<class 'pandas.core.frame.DataFrame'>\n",
      "RangeIndex: 423 entries, 0 to 422\n",
      "Data columns (total 6 columns):\n",
      " #   Column      Non-Null Count  Dtype  \n",
      "---  ------      --------------  -----  \n",
      " 0   Name        423 non-null    object \n",
      " 1   Age         422 non-null    float64\n",
      " 2   Occupation  423 non-null    object \n",
      " 3   Hometown    423 non-null    object \n",
      " 4   ElimWeek    406 non-null    float64\n",
      " 5   Season      423 non-null    int64  \n",
      "dtypes: float64(2), int64(1), object(3)\n",
      "memory usage: 20.0+ KB\n"
     ]
    }
   ],
   "source": [
    "df1.info()"
   ]
  },
  {
   "cell_type": "code",
   "execution_count": 23,
   "id": "c5f4c898",
   "metadata": {},
   "outputs": [
    {
     "data": {
      "text/plain": [
       "10.0"
      ]
     },
     "execution_count": 23,
     "metadata": {},
     "output_type": "execute_result"
    }
   ],
   "source": [
    "df1['ElimWeek'].max()"
   ]
  },
  {
   "cell_type": "code",
   "execution_count": 25,
   "id": "56de36d8",
   "metadata": {},
   "outputs": [],
   "source": [
    "df1['ElimWeek'].fillna(11,inplace=True)"
   ]
  },
  {
   "cell_type": "code",
   "execution_count": 29,
   "id": "1f82c07a",
   "metadata": {},
   "outputs": [],
   "source": [
    "df1 = df1.dropna()"
   ]
  },
  {
   "cell_type": "code",
   "execution_count": 31,
   "id": "3e0b6868",
   "metadata": {},
   "outputs": [
    {
     "data": {
      "text/plain": [
       "21.0"
      ]
     },
     "execution_count": 31,
     "metadata": {},
     "output_type": "execute_result"
    }
   ],
   "source": [
    "df1['Age'].min()"
   ]
  },
  {
   "cell_type": "code",
   "execution_count": 33,
   "id": "496e2a65",
   "metadata": {},
   "outputs": [
    {
     "name": "stdout",
     "output_type": "stream",
     "text": [
      "<class 'pandas.core.frame.DataFrame'>\n",
      "Index: 422 entries, 0 to 422\n",
      "Data columns (total 6 columns):\n",
      " #   Column      Non-Null Count  Dtype  \n",
      "---  ------      --------------  -----  \n",
      " 0   Name        422 non-null    object \n",
      " 1   Age         422 non-null    float64\n",
      " 2   Occupation  422 non-null    object \n",
      " 3   Hometown    422 non-null    object \n",
      " 4   ElimWeek    422 non-null    float64\n",
      " 5   Season      422 non-null    int64  \n",
      "dtypes: float64(2), int64(1), object(3)\n",
      "memory usage: 23.1+ KB\n"
     ]
    }
   ],
   "source": [
    "df1.info()"
   ]
  },
  {
   "cell_type": "code",
   "execution_count": 47,
   "id": "f83cf846",
   "metadata": {
    "scrolled": true
   },
   "outputs": [
    {
     "name": "stdout",
     "output_type": "stream",
     "text": [
      "<class 'pandas.core.frame.DataFrame'>\n",
      "Index: 422 entries, 0 to 422\n",
      "Data columns (total 6 columns):\n",
      " #   Column      Non-Null Count  Dtype  \n",
      "---  ------      --------------  -----  \n",
      " 0   Name        422 non-null    object \n",
      " 1   Age         422 non-null    int64  \n",
      " 2   Occupation  422 non-null    object \n",
      " 3   Hometown    422 non-null    object \n",
      " 4   ElimWeek    422 non-null    float64\n",
      " 5   Season      422 non-null    int64  \n",
      "dtypes: float64(1), int64(2), object(3)\n",
      "memory usage: 23.1+ KB\n"
     ]
    }
   ],
   "source": [
    "df1.info()"
   ]
  },
  {
   "cell_type": "code",
   "execution_count": 6,
   "id": "7d8436cd-d999-4cb0-8a5a-c8245fff1ca9",
   "metadata": {},
   "outputs": [],
   "source": [
    "df2= pd.read_csv('contestants_level4.csv')"
   ]
  },
  {
   "cell_type": "code",
   "execution_count": 8,
   "id": "5c844cac-ffe1-4375-aadd-328a5172694c",
   "metadata": {},
   "outputs": [
    {
     "data": {
      "text/html": [
       "<div>\n",
       "<style scoped>\n",
       "    .dataframe tbody tr th:only-of-type {\n",
       "        vertical-align: middle;\n",
       "    }\n",
       "\n",
       "    .dataframe tbody tr th {\n",
       "        vertical-align: top;\n",
       "    }\n",
       "\n",
       "    .dataframe thead th {\n",
       "        text-align: right;\n",
       "    }\n",
       "</style>\n",
       "<table border=\"1\" class=\"dataframe\">\n",
       "  <thead>\n",
       "    <tr style=\"text-align: right;\">\n",
       "      <th></th>\n",
       "      <th>Unnamed: 0</th>\n",
       "      <th>Name</th>\n",
       "      <th>Age</th>\n",
       "      <th>Hometown</th>\n",
       "      <th>ElimWeek</th>\n",
       "      <th>Season</th>\n",
       "      <th>Region</th>\n",
       "    </tr>\n",
       "  </thead>\n",
       "  <tbody>\n",
       "    <tr>\n",
       "      <th>0</th>\n",
       "      <td>0</td>\n",
       "      <td>Amanda Marsh</td>\n",
       "      <td>23.0</td>\n",
       "      <td>Chanute, Kansas</td>\n",
       "      <td>11.0</td>\n",
       "      <td>1</td>\n",
       "      <td>4</td>\n",
       "    </tr>\n",
       "    <tr>\n",
       "      <th>1</th>\n",
       "      <td>1</td>\n",
       "      <td>Trista Rehn</td>\n",
       "      <td>29.0</td>\n",
       "      <td>Miami, Florida</td>\n",
       "      <td>6.0</td>\n",
       "      <td>1</td>\n",
       "      <td>2</td>\n",
       "    </tr>\n",
       "    <tr>\n",
       "      <th>2</th>\n",
       "      <td>2</td>\n",
       "      <td>Shannon Oliver</td>\n",
       "      <td>24.0</td>\n",
       "      <td>Dallas, Texas</td>\n",
       "      <td>5.0</td>\n",
       "      <td>1</td>\n",
       "      <td>2</td>\n",
       "    </tr>\n",
       "    <tr>\n",
       "      <th>3</th>\n",
       "      <td>3</td>\n",
       "      <td>Kim</td>\n",
       "      <td>24.0</td>\n",
       "      <td>Tempe, Arizona</td>\n",
       "      <td>4.0</td>\n",
       "      <td>1</td>\n",
       "      <td>4</td>\n",
       "    </tr>\n",
       "    <tr>\n",
       "      <th>4</th>\n",
       "      <td>4</td>\n",
       "      <td>Cathy Grimes</td>\n",
       "      <td>22.0</td>\n",
       "      <td>Terra Haute, Indiana</td>\n",
       "      <td>3.0</td>\n",
       "      <td>1</td>\n",
       "      <td>4</td>\n",
       "    </tr>\n",
       "    <tr>\n",
       "      <th>...</th>\n",
       "      <td>...</td>\n",
       "      <td>...</td>\n",
       "      <td>...</td>\n",
       "      <td>...</td>\n",
       "      <td>...</td>\n",
       "      <td>...</td>\n",
       "      <td>...</td>\n",
       "    </tr>\n",
       "    <tr>\n",
       "      <th>495</th>\n",
       "      <td>20</td>\n",
       "      <td>Kristina</td>\n",
       "      <td>27.0</td>\n",
       "      <td>Brooklyn, New York</td>\n",
       "      <td>1.0</td>\n",
       "      <td>7</td>\n",
       "      <td>3</td>\n",
       "    </tr>\n",
       "    <tr>\n",
       "      <th>496</th>\n",
       "      <td>21</td>\n",
       "      <td>Kristine</td>\n",
       "      <td>23.0</td>\n",
       "      <td>Fairfax Station, Virginia</td>\n",
       "      <td>1.0</td>\n",
       "      <td>7</td>\n",
       "      <td>2</td>\n",
       "    </tr>\n",
       "    <tr>\n",
       "      <th>497</th>\n",
       "      <td>22</td>\n",
       "      <td>Kyshawn</td>\n",
       "      <td>30.0</td>\n",
       "      <td>Nashville, Tennessee</td>\n",
       "      <td>1.0</td>\n",
       "      <td>7</td>\n",
       "      <td>2</td>\n",
       "    </tr>\n",
       "    <tr>\n",
       "      <th>498</th>\n",
       "      <td>23</td>\n",
       "      <td>Siomara</td>\n",
       "      <td>25.0</td>\n",
       "      <td>Chicago, Illinois</td>\n",
       "      <td>1.0</td>\n",
       "      <td>7</td>\n",
       "      <td>4</td>\n",
       "    </tr>\n",
       "    <tr>\n",
       "      <th>499</th>\n",
       "      <td>24</td>\n",
       "      <td>Valerie</td>\n",
       "      <td>28.0</td>\n",
       "      <td>Wayne, New Jersey</td>\n",
       "      <td>1.0</td>\n",
       "      <td>7</td>\n",
       "      <td>3</td>\n",
       "    </tr>\n",
       "  </tbody>\n",
       "</table>\n",
       "<p>500 rows × 7 columns</p>\n",
       "</div>"
      ],
      "text/plain": [
       "     Unnamed: 0            Name   Age                   Hometown  ElimWeek  \\\n",
       "0             0    Amanda Marsh  23.0            Chanute, Kansas      11.0   \n",
       "1             1     Trista Rehn  29.0             Miami, Florida       6.0   \n",
       "2             2  Shannon Oliver  24.0              Dallas, Texas       5.0   \n",
       "3             3             Kim  24.0             Tempe, Arizona       4.0   \n",
       "4             4    Cathy Grimes  22.0       Terra Haute, Indiana       3.0   \n",
       "..          ...             ...   ...                        ...       ...   \n",
       "495          20        Kristina  27.0         Brooklyn, New York       1.0   \n",
       "496          21        Kristine  23.0  Fairfax Station, Virginia       1.0   \n",
       "497          22         Kyshawn  30.0       Nashville, Tennessee       1.0   \n",
       "498          23         Siomara  25.0          Chicago, Illinois       1.0   \n",
       "499          24         Valerie  28.0          Wayne, New Jersey       1.0   \n",
       "\n",
       "     Season  Region  \n",
       "0         1       4  \n",
       "1         1       2  \n",
       "2         1       2  \n",
       "3         1       4  \n",
       "4         1       4  \n",
       "..      ...     ...  \n",
       "495       7       3  \n",
       "496       7       2  \n",
       "497       7       2  \n",
       "498       7       4  \n",
       "499       7       3  \n",
       "\n",
       "[500 rows x 7 columns]"
      ]
     },
     "execution_count": 8,
     "metadata": {},
     "output_type": "execute_result"
    }
   ],
   "source": [
    "df2"
   ]
  },
  {
   "cell_type": "code",
   "execution_count": 12,
   "id": "4fe65d27-9149-4a70-b5c8-dfe483432f3f",
   "metadata": {},
   "outputs": [
    {
     "name": "stdout",
     "output_type": "stream",
     "text": [
      "<class 'pandas.core.frame.DataFrame'>\n",
      "RangeIndex: 500 entries, 0 to 499\n",
      "Data columns (total 7 columns):\n",
      " #   Column      Non-Null Count  Dtype  \n",
      "---  ------      --------------  -----  \n",
      " 0   Unnamed: 0  500 non-null    int64  \n",
      " 1   Name        500 non-null    object \n",
      " 2   Age         500 non-null    float64\n",
      " 3   Hometown    500 non-null    object \n",
      " 4   ElimWeek    500 non-null    float64\n",
      " 5   Season      500 non-null    int64  \n",
      " 6   Region      500 non-null    int64  \n",
      "dtypes: float64(2), int64(3), object(2)\n",
      "memory usage: 27.5+ KB\n"
     ]
    }
   ],
   "source": [
    "df2.info()"
   ]
  },
  {
   "cell_type": "code",
   "execution_count": 38,
   "id": "6b34ee83-c9cb-43c6-9636-b6b643a3f0ff",
   "metadata": {},
   "outputs": [
    {
     "data": {
      "text/plain": [
       "array(['Chanute, Kansas', 'Miami, Florida', 'Dallas, Texas',\n",
       "       'Tempe, Arizona', 'Terra Haute, Indiana', 'Bonita, California',\n",
       "       'Los Angeles, California', 'Woodward, Oklahoma',\n",
       "       'Beverly Hills, California', 'New York, New York',\n",
       "       'Avondale, Arizona', 'Burbank, California',\n",
       "       'Malden, Massachusetts', 'Plano, Texas', 'Seattle, Washington',\n",
       "       'Honolulu, Hawaii', 'Pittsburgh, Pennsylvania',\n",
       "       'Chicago, Illinois', 'Swansea, Massachusetts',\n",
       "       'Eastchester, New York', 'Gloucester, New Jersey',\n",
       "       'Albertville, Alabama', 'Philadelphia, Pennsylvania',\n",
       "       'Kansas City, Missouri', 'Lake Oswego, Oregon', 'Boise, Idaho',\n",
       "       'Walnut Creek, California', 'Midvale, Utah',\n",
       "       'Long Island, New York', 'Westchester, Pennsylvania',\n",
       "       'Redondo Beach, California', 'San Francisco, California',\n",
       "       'Chapel Hill, North Carolina', 'Granite City, Illinois',\n",
       "       'Houston, Texas', 'Long Beach, California',\n",
       "       'Coral Gables, Florida', 'Forked River, New Jersey',\n",
       "       'Richmond, Virginia', 'Huntington Beach, California',\n",
       "       'Shawnee, Oklahoma', 'Midland, Texas', 'Atlanta, Georgia',\n",
       "       'Ann Arbor, Michigan', 'Pleasant Grove, Utah', 'Pearsall, Texas',\n",
       "       'Sacramento, California', 'Carrboro, North Carolina',\n",
       "       'Scottsdale, Arizona', 'Gibson, North Carolina',\n",
       "       'Pinetops, North Carolina', 'Quebec City,\\xa0Quebec',\n",
       "       'Sunriver, Oregon', 'San Diego, California', 'Dearborn, Michigan',\n",
       "       'Ithaca, New York', 'Canton, Michigan', 'Madison, New Jersey',\n",
       "       'Phillipsburg, New Jersey', 'Cincinnati, Ohio', 'Tulsa, Oklahoma',\n",
       "       'Buffalo, New York', 'Sausalito, California',\n",
       "       'Pembroke Pines, Florida', 'Carlsbad, California',\n",
       "       'Portland, Oregon', 'Venice, Italy', 'Bloomingdale, Illinois',\n",
       "       'Salt Lake City, Utah', 'Galveston, Texas',\n",
       "       'Nelson, British Columbia', 'Newport Beach, California',\n",
       "       'New Haven, Connecticut', 'St. Augustine, Florida', 'Richmond, VA',\n",
       "       'Baltimore, MD', 'Biloxi, MS', 'San Diego, CA', 'Charlotte, NC',\n",
       "       'Aliquippa, PA', 'New York, NY', 'Italy', 'Boca Raton, FL',\n",
       "       'Cattaraugus, NY', 'Columbus, OH', 'Cincinnati, OH', 'Chicago, IL',\n",
       "       'Palo Alto, California', 'Bethel, Connecticut',\n",
       "       'Sugar Land, Texas', 'Overland Park, Kansas',\n",
       "       'Ravenel, South Carolina', 'Charleston, SC', 'Folly Beach, SC',\n",
       "       'Dallas, TX', 'Logansport, LA', 'La Vergne, Tennessee',\n",
       "       'Southlake, TX', 'The Woodlands, TX', 'Boston, MA',\n",
       "       'Birmingham, AL', 'Hilton Head Island, SC', 'Lake Forest, IL',\n",
       "       'Bronx, NY', 'Minneapolis, MN', 'Tampa, FL', 'Cuyahoga Falls, OH',\n",
       "       'Lawrence, KS', 'St. Louis Park, MN', 'Newnan, Georgia',\n",
       "       'Wichita, Kansas', 'Washington, D.C.', 'Gurnee, Illinois',\n",
       "       'Nashville, Tennessee', 'Lemon Grove, California',\n",
       "       'Livonia, Michigan', \"O'Fallon, Illinois\", 'Georgetown, Texas',\n",
       "       'South Brunswick, New Jersey', 'Tampa, Florida',\n",
       "       'Lady Lake, Florida', 'Woodbridge, Connecticut',\n",
       "       'Annapolis, Maryland', 'Westchester, New York',\n",
       "       'Duncanville, Texas', 'St. Louis Park, Minnesota',\n",
       "       'St. Charles, Illinois', 'Malibu, California', 'Durango, Colorado',\n",
       "       'Niceville, Florida', 'Loveland, Colorado', 'Brooklyn, New York',\n",
       "       'Holland, Michigan', 'Jacksonville Beach, Florida',\n",
       "       'Hollywood, California', 'Suffield, Ohio', 'Stockton, California',\n",
       "       'Venice, California', 'Dillsburg, Pennsylvania',\n",
       "       'Oklahoma City, Oklahoma', 'Syracuse, New York',\n",
       "       'LaFollette, Tennessee', 'Washington, D.C', 'Austin, Texas',\n",
       "       'Laguna Niguel, California', 'Alamo, California',\n",
       "       'Brookfield, Wisconsin', 'Peace River,\\xa0Alberta',\n",
       "       'Carlsbad,\\xa0California', 'Huntsville,\\xa0Alabama',\n",
       "       'Marlboro,\\xa0New Jersey', 'Sewickley,\\xa0Pennsylvania',\n",
       "       'Marshall,\\xa0Missouri', 'Blue Island,\\xa0Illinois',\n",
       "       'Monroe,\\xa0Connecticut', \"Lee's Summit,\\xa0Missouri\",\n",
       "       'Morton,\\xa0Illinois', 'Recife,\\xa0Pernambuco,\\xa0Brazil',\n",
       "       'Batavia,\\xa0New York', 'Boise,\\xa0Idaho', 'Phoenix,\\xa0Arizona',\n",
       "       'Mt. Carmel,\\xa0Pennsylvania', 'Seattle,\\xa0Washington',\n",
       "       'Springfield,\\xa0Massachusetts', 'Columbus,\\xa0Ohio',\n",
       "       'Calgary,\\xa0Alberta', 'Southfield,\\xa0Michigan',\n",
       "       'Stockton,\\xa0California', 'Orem,\\xa0Utah',\n",
       "       'Salt Lake City,\\xa0Utah', 'Geneva,\\xa0Florida',\n",
       "       'Newberg,\\xa0Oregon', 'New York,\\xa0New York',\n",
       "       'Williamstown,\\xa0Massachusetts', 'Kissimmee,\\xa0Florida',\n",
       "       'North Potomac,\\xa0Maryland', 'Oakville,\\xa0Ontario',\n",
       "       'Lexington,\\xa0Kentucky', 'La Follette,\\xa0Tennessee',\n",
       "       'Imperial,\\xa0Nebraska', 'San Bernardino,\\xa0California',\n",
       "       'Anaheim,\\xa0California', 'Pittsburgh,\\xa0Pennsylvania',\n",
       "       'San Diego,\\xa0California', 'Richmond,\\xa0Virginia',\n",
       "       'Galloway,\\xa0Ohio', 'Winfield,\\xa0Illinois',\n",
       "       'Santa Rosa,\\xa0California', 'Union,\\xa0Kentucky',\n",
       "       'West Chester,\\xa0Ohio', 'Norman,\\xa0Oklahoma',\n",
       "       'Aurora,\\xa0Colorado', 'Scottsdale,\\xa0Arizona',\n",
       "       'Morris,\\xa0Illinois', 'Morgantown, West Virginia',\n",
       "       'Mercer Island, Washington', 'Madawaska, Maine',\n",
       "       'Chico, California', 'Woodinville, Washington',\n",
       "       'Newport, Rhode Island', 'Columbus, Ohio', 'Ottawa,\\xa0Kansas',\n",
       "       'Mesa,\\xa0Arizona', 'Ellerbe,\\xa0North Carolina',\n",
       "       'Plano,\\xa0Texas', 'Princeton,\\xa0New Jersey',\n",
       "       'Quincy,\\xa0Massachusetts', 'Orlando,\\xa0Florida',\n",
       "       'Denver,\\xa0Colorado', 'Vail,\\xa0Colorado',\n",
       "       'Sherwood Park,\\xa0Alberta', 'Westport,\\xa0Connecticut',\n",
       "       'Fullerton,\\xa0California', 'Holland,\\xa0Pennsylvania',\n",
       "       'Davie,\\xa0Florida', 'Frisco,\\xa0Texas', 'Tampa,\\xa0Florida',\n",
       "       'Culpeper,\\xa0Virginia', 'Dix Hills,\\xa0New York',\n",
       "       'Mission Viejo,\\xa0California', 'Palos Hills,\\xa0Illinois',\n",
       "       'Saginaw,\\xa0Michigan', 'Newcastle, Washington', 'Hurst,\\xa0Texas',\n",
       "       'Clarksville,\\xa0Tennessee', 'Chapel Hill,\\xa0North Carolina',\n",
       "       'Southampton,\\xa0Massachusetts', 'Dryden,\\xa0New York',\n",
       "       'Leawood,\\xa0Kansas', 'Rutherfordton,\\xa0North Carolina',\n",
       "       'Cache,\\xa0Oklahoma', 'Chicago,\\xa0Illinois',\n",
       "       'Yuba,\\xa0California', 'Charlottesville,\\xa0Virginia',\n",
       "       'Newton,\\xa0Massachusetts', 'Colorado Springs,\\xa0Colorado',\n",
       "       'Loveland,\\xa0Ohio', 'Cincinnati,\\xa0Ohio',\n",
       "       'Port Coquitlam,\\xa0British Columbia', 'Waverly,\\xa0Nebraska',\n",
       "       'Detroit,\\xa0Michigan', 'San Gabriel,\\xa0California',\n",
       "       'Salyersville,\\xa0Kentucky', 'London,\\xa0England',\n",
       "       'Massapequa Park, New York', 'Fort Bragg, North Carolina',\n",
       "       'Northglenn, Colorado', 'Fort Smith, Arkansas',\n",
       "       'Las Vegas, Nevada', 'Belmont, California',\n",
       "       'Borrego Springs, California', 'Evergreen, Colorado',\n",
       "       'Topeka, Kansas', 'Ormond Beach, Florida',\n",
       "       'Bakersfield, California', 'Ruskin, Florida', 'Darien, Wisconsin',\n",
       "       'Troutdale, Oregon', 'Clarksville, Tennessee', 'Sandy, Utah',\n",
       "       'Woodstock, Illinois', 'Garner, North Carolina',\n",
       "       'Macomb, Michigan', 'Chattanooga, Tennessee',\n",
       "       'Agoura Hills, California', 'Stevenson Ranch, California',\n",
       "       'Cranston, Rhode Island', 'Minnetonka, Minnesota',\n",
       "       'Kearney, Missouri', 'Buckhead, Georgia',\n",
       "       \"Martha's Vineyard, Massachusetts\", 'Lexington, Ohio',\n",
       "       'Ottawa,\\xa0Ontario', 'Iowa City, Iowa',\n",
       "       'Shelby Charter Township, Michigan', 'Orland Park, Illinois',\n",
       "       'Litchfield, Illinois', 'Conyers, Georgia',\n",
       "       'Forty Fort, Pennsylvania', 'Aurora, Illinois',\n",
       "       'Santa Barbara, California', 'Clermont, Florida',\n",
       "       'Porto Alegre,\\xa0Brazil', 'Apopka, Florida', 'Roanoke, Texas',\n",
       "       'Rockford, Illinois', 'Antelope Acres, California',\n",
       "       'Edmond, Oklahoma', 'Wagener, South Carolina',\n",
       "       'Sutter, California', 'Louisville, Kentucky',\n",
       "       'Shreveport, Louisiana', 'Leduc, Alberta', 'Gering, Nebraska',\n",
       "       'Arlington, Texas', 'Wolcott Mills, Michigan',\n",
       "       'Hudsonville, Michigan', 'Great Falls, Virginia',\n",
       "       'Maple Valley, Washington', 'Indianapolis, Indiana',\n",
       "       'Vinings, Georgia', 'Beaverton, Oregon',\n",
       "       'Hasbrouck Heights, New Jersey', 'Howland, Ohio',\n",
       "       'Kankakee, Illinois', 'Wellington, Florida', 'Algonquin, Illinois',\n",
       "       'Hamilton, New Jersey', 'Windsor, Colorado', 'Wantagh, New York',\n",
       "       'Fort Lauderdale, Florida', 'Lake in the Hills, Illinois',\n",
       "       'Carpinteria, California', 'Temecula, California',\n",
       "       'Brownsville, Kentucky', 'Provo, Utah',\n",
       "       'Manhattan Beach, California', 'West Linn, Oregon', 'Hudson, Ohio',\n",
       "       'Rancho Santa Margarita, California', 'Dexter, Michigan',\n",
       "       'Bristol, Virginia', 'Greenwood Village, Colorado',\n",
       "       'Lauderdale Lakes, Florida', 'Little Rock, Arkansas',\n",
       "       'St. Albert, Alberta', 'Denver, Colorado',\n",
       "       'New Smyrna Beach, Florida', 'Stillwater, Oklahoma',\n",
       "       'Branford, Connecticut', 'Boca Raton, Florida',\n",
       "       'Visalia, California', 'Redmond, Washington', 'Secaucus, NJ',\n",
       "       'Greenville, SC', 'Salt Lake City, UT', 'Santa Monica, CA',\n",
       "       'Tulsa, OK', 'Miami, FL', 'Los Angeles, CA', 'Nashville, TN',\n",
       "       'Las Vegas, NV', 'Vancouver, British Columbia, Canada',\n",
       "       'Harlingen, TX', 'New Orleans, LA', 'Tacoma, WA',\n",
       "       'San Francisco, CA', 'Santa Cruz, CA', 'Lexington, KY',\n",
       "       'Manhattan, NY', 'Naples, FL', 'Anchorage, AK', 'Hoxie, AR',\n",
       "       'Newport Beach, CA', 'Seattle, WA', 'Montreal, Quebec, Canada',\n",
       "       'Chanhassen, MN', 'Kalamazoo, Michigan', 'Bartlett, Tennessee',\n",
       "       'Athens, Georgia', 'Brooklyn Park, Minnesota',\n",
       "       'La Jolla, California', 'Poolesville, Maryland',\n",
       "       'Mauldin, South Carolina', 'Corona, California',\n",
       "       'Gainesville, Florida', 'Shreveport, Lousiana',\n",
       "       'Wanwatosa, Wisconsin', 'Massillon, OH', 'Plano, TX',\n",
       "       'Hermosa Beach, CA', 'St. Louis, MO', 'Denver, CO',\n",
       "       'Key Largo, FL', 'Oklahoma City, OK', 'Windsor, Canada',\n",
       "       'Hollywood, CA', 'Santa Barbara, CA', 'Beverly Hills, CA',\n",
       "       'Chula Vista, CA', 'Austin, TX', 'Henderson, NV', 'Astoria, OR',\n",
       "       'Tusla, OK', 'Pensacola, FL', 'West Palm Beach, FL',\n",
       "       'Libertyville, IL', 'McKinney, Texas', 'Warwick, Rhode Island',\n",
       "       'Edmonton, Alberta', 'Rockwell, Texas',\n",
       "       'Woodland Hills, California', 'Minneapolis, Minnesota',\n",
       "       'Tallahassee, Florida', 'New York City, New York',\n",
       "       'Thornhill, Ontario', 'Orlando, Florida', 'Boston, Massachusetts',\n",
       "       'Fairfax Station, Virginia', 'Wayne, New Jersey'], dtype=object)"
      ]
     },
     "execution_count": 38,
     "metadata": {},
     "output_type": "execute_result"
    }
   ],
   "source": [
    "df2['Hometown'].unique()"
   ]
  },
  {
   "cell_type": "code",
   "execution_count": 42,
   "id": "2da91ecb-2188-40ef-8df6-9d9260f58e0b",
   "metadata": {},
   "outputs": [],
   "source": [
    "df2['dis']= pd.factorize(df2['Hometown'])[0]"
   ]
  },
  {
   "cell_type": "code",
   "execution_count": 74,
   "id": "66ef28be-9603-458c-ae32-cf8eda2ebd45",
   "metadata": {},
   "outputs": [
    {
     "data": {
      "text/html": [
       "<div>\n",
       "<style scoped>\n",
       "    .dataframe tbody tr th:only-of-type {\n",
       "        vertical-align: middle;\n",
       "    }\n",
       "\n",
       "    .dataframe tbody tr th {\n",
       "        vertical-align: top;\n",
       "    }\n",
       "\n",
       "    .dataframe thead th {\n",
       "        text-align: right;\n",
       "    }\n",
       "</style>\n",
       "<table border=\"1\" class=\"dataframe\">\n",
       "  <thead>\n",
       "    <tr style=\"text-align: right;\">\n",
       "      <th></th>\n",
       "      <th>Unnamed: 0</th>\n",
       "      <th>Name</th>\n",
       "      <th>Age</th>\n",
       "      <th>Hometown</th>\n",
       "      <th>ElimWeek</th>\n",
       "      <th>Season</th>\n",
       "      <th>Region</th>\n",
       "      <th>dis</th>\n",
       "    </tr>\n",
       "  </thead>\n",
       "  <tbody>\n",
       "    <tr>\n",
       "      <th>19</th>\n",
       "      <td>19</td>\n",
       "      <td>Jill</td>\n",
       "      <td>31.0</td>\n",
       "      <td>Chicago, Illinois</td>\n",
       "      <td>1.0</td>\n",
       "      <td>1</td>\n",
       "      <td>4</td>\n",
       "      <td>17</td>\n",
       "    </tr>\n",
       "    <tr>\n",
       "      <th>82</th>\n",
       "      <td>82</td>\n",
       "      <td>Gina Clark</td>\n",
       "      <td>28.0</td>\n",
       "      <td>Chicago, Illinois</td>\n",
       "      <td>3.0</td>\n",
       "      <td>9</td>\n",
       "      <td>4</td>\n",
       "      <td>17</td>\n",
       "    </tr>\n",
       "    <tr>\n",
       "      <th>88</th>\n",
       "      <td>88</td>\n",
       "      <td>Rosella Fratto</td>\n",
       "      <td>27.0</td>\n",
       "      <td>Chicago, Illinois</td>\n",
       "      <td>1.0</td>\n",
       "      <td>9</td>\n",
       "      <td>4</td>\n",
       "      <td>17</td>\n",
       "    </tr>\n",
       "    <tr>\n",
       "      <th>143</th>\n",
       "      <td>143</td>\n",
       "      <td>Juli Gilliam</td>\n",
       "      <td>24.0</td>\n",
       "      <td>Chicago, Illinois</td>\n",
       "      <td>1.0</td>\n",
       "      <td>11</td>\n",
       "      <td>4</td>\n",
       "      <td>17</td>\n",
       "    </tr>\n",
       "    <tr>\n",
       "      <th>174</th>\n",
       "      <td>174</td>\n",
       "      <td>Stacey Elza</td>\n",
       "      <td>26.0</td>\n",
       "      <td>Chicago, Illinois</td>\n",
       "      <td>1.0</td>\n",
       "      <td>12</td>\n",
       "      <td>4</td>\n",
       "      <td>17</td>\n",
       "    </tr>\n",
       "    <tr>\n",
       "      <th>434</th>\n",
       "      <td>11</td>\n",
       "      <td>Kristi Houston</td>\n",
       "      <td>24.0</td>\n",
       "      <td>Chicago, Illinois</td>\n",
       "      <td>2.0</td>\n",
       "      <td>4</td>\n",
       "      <td>4</td>\n",
       "      <td>17</td>\n",
       "    </tr>\n",
       "    <tr>\n",
       "      <th>440</th>\n",
       "      <td>17</td>\n",
       "      <td>Heather</td>\n",
       "      <td>24.0</td>\n",
       "      <td>Chicago, Illinois</td>\n",
       "      <td>1.0</td>\n",
       "      <td>4</td>\n",
       "      <td>4</td>\n",
       "      <td>17</td>\n",
       "    </tr>\n",
       "    <tr>\n",
       "      <th>443</th>\n",
       "      <td>20</td>\n",
       "      <td>Leona</td>\n",
       "      <td>25.0</td>\n",
       "      <td>Chicago, Illinois</td>\n",
       "      <td>1.0</td>\n",
       "      <td>4</td>\n",
       "      <td>4</td>\n",
       "      <td>17</td>\n",
       "    </tr>\n",
       "    <tr>\n",
       "      <th>444</th>\n",
       "      <td>21</td>\n",
       "      <td>Samentha</td>\n",
       "      <td>25.0</td>\n",
       "      <td>Chicago, Illinois</td>\n",
       "      <td>1.0</td>\n",
       "      <td>4</td>\n",
       "      <td>4</td>\n",
       "      <td>17</td>\n",
       "    </tr>\n",
       "    <tr>\n",
       "      <th>485</th>\n",
       "      <td>10</td>\n",
       "      <td>Kerry</td>\n",
       "      <td>32.0</td>\n",
       "      <td>Chicago, Illinois</td>\n",
       "      <td>2.0</td>\n",
       "      <td>7</td>\n",
       "      <td>4</td>\n",
       "      <td>17</td>\n",
       "    </tr>\n",
       "    <tr>\n",
       "      <th>490</th>\n",
       "      <td>15</td>\n",
       "      <td>Emilie</td>\n",
       "      <td>27.0</td>\n",
       "      <td>Chicago, Illinois</td>\n",
       "      <td>1.0</td>\n",
       "      <td>7</td>\n",
       "      <td>4</td>\n",
       "      <td>17</td>\n",
       "    </tr>\n",
       "    <tr>\n",
       "      <th>498</th>\n",
       "      <td>23</td>\n",
       "      <td>Siomara</td>\n",
       "      <td>25.0</td>\n",
       "      <td>Chicago, Illinois</td>\n",
       "      <td>1.0</td>\n",
       "      <td>7</td>\n",
       "      <td>4</td>\n",
       "      <td>17</td>\n",
       "    </tr>\n",
       "  </tbody>\n",
       "</table>\n",
       "</div>"
      ],
      "text/plain": [
       "     Unnamed: 0            Name   Age           Hometown  ElimWeek  Season  \\\n",
       "19           19            Jill  31.0  Chicago, Illinois       1.0       1   \n",
       "82           82      Gina Clark  28.0  Chicago, Illinois       3.0       9   \n",
       "88           88  Rosella Fratto  27.0  Chicago, Illinois       1.0       9   \n",
       "143         143    Juli Gilliam  24.0  Chicago, Illinois       1.0      11   \n",
       "174         174     Stacey Elza  26.0  Chicago, Illinois       1.0      12   \n",
       "434          11  Kristi Houston  24.0  Chicago, Illinois       2.0       4   \n",
       "440          17         Heather  24.0  Chicago, Illinois       1.0       4   \n",
       "443          20           Leona  25.0  Chicago, Illinois       1.0       4   \n",
       "444          21        Samentha  25.0  Chicago, Illinois       1.0       4   \n",
       "485          10           Kerry  32.0  Chicago, Illinois       2.0       7   \n",
       "490          15          Emilie  27.0  Chicago, Illinois       1.0       7   \n",
       "498          23         Siomara  25.0  Chicago, Illinois       1.0       7   \n",
       "\n",
       "     Region  dis  \n",
       "19        4   17  \n",
       "82        4   17  \n",
       "88        4   17  \n",
       "143       4   17  \n",
       "174       4   17  \n",
       "434       4   17  \n",
       "440       4   17  \n",
       "443       4   17  \n",
       "444       4   17  \n",
       "485       4   17  \n",
       "490       4   17  \n",
       "498       4   17  "
      ]
     },
     "execution_count": 74,
     "metadata": {},
     "output_type": "execute_result"
    }
   ],
   "source": [
    "df2[df2['dis']==17]"
   ]
  },
  {
   "cell_type": "code",
   "execution_count": null,
   "id": "9a28484f-abda-464f-b637-6fc0f589ba89",
   "metadata": {},
   "outputs": [],
   "source": []
  },
  {
   "cell_type": "markdown",
   "id": "880ff05f",
   "metadata": {},
   "source": [
    "### 2. Training Your Model\n",
    "In the cell seen below, write the code you need to train a linear regression model. Make sure you display the equation of the plane that best fits your chosen data at the end of your program. \n",
    "\n",
    "*Note, level 5 work trains a model using only the standard Python library and Pandas. A level 5 model is trained with at least two features, where one of the features begins as a categorical value (e.g. occupation, hometown, etc.). A level 4 uses external libraries like scikit or numpy.*"
   ]
  },
  {
   "cell_type": "code",
   "execution_count": 77,
   "id": "a87a9144",
   "metadata": {},
   "outputs": [],
   "source": [
    "import numpy as np\n",
    "from sklearn.linear_model import LinearRegression\n",
    "from sklearn.model_selection import train_test_split"
   ]
  },
  {
   "cell_type": "code",
   "execution_count": 79,
   "id": "b0cde48a",
   "metadata": {},
   "outputs": [],
   "source": [
    "X = df2[[\"dis\"]]\n",
    "y = df2[\"ElimWeek\"]"
   ]
  },
  {
   "cell_type": "code",
   "execution_count": 81,
   "id": "1fcc24b3",
   "metadata": {},
   "outputs": [],
   "source": [
    "X_train, X_test, y_train, y_test = train_test_split(X, y, test_size=0.3, random_state=42)"
   ]
  },
  {
   "cell_type": "code",
   "execution_count": 83,
   "id": "abccf987",
   "metadata": {
    "editable": true,
    "slideshow": {
     "slide_type": ""
    },
    "tags": []
   },
   "outputs": [
    {
     "data": {
      "text/html": [
       "<style>#sk-container-id-4 {color: black;}#sk-container-id-4 pre{padding: 0;}#sk-container-id-4 div.sk-toggleable {background-color: white;}#sk-container-id-4 label.sk-toggleable__label {cursor: pointer;display: block;width: 100%;margin-bottom: 0;padding: 0.3em;box-sizing: border-box;text-align: center;}#sk-container-id-4 label.sk-toggleable__label-arrow:before {content: \"▸\";float: left;margin-right: 0.25em;color: #696969;}#sk-container-id-4 label.sk-toggleable__label-arrow:hover:before {color: black;}#sk-container-id-4 div.sk-estimator:hover label.sk-toggleable__label-arrow:before {color: black;}#sk-container-id-4 div.sk-toggleable__content {max-height: 0;max-width: 0;overflow: hidden;text-align: left;background-color: #f0f8ff;}#sk-container-id-4 div.sk-toggleable__content pre {margin: 0.2em;color: black;border-radius: 0.25em;background-color: #f0f8ff;}#sk-container-id-4 input.sk-toggleable__control:checked~div.sk-toggleable__content {max-height: 200px;max-width: 100%;overflow: auto;}#sk-container-id-4 input.sk-toggleable__control:checked~label.sk-toggleable__label-arrow:before {content: \"▾\";}#sk-container-id-4 div.sk-estimator input.sk-toggleable__control:checked~label.sk-toggleable__label {background-color: #d4ebff;}#sk-container-id-4 div.sk-label input.sk-toggleable__control:checked~label.sk-toggleable__label {background-color: #d4ebff;}#sk-container-id-4 input.sk-hidden--visually {border: 0;clip: rect(1px 1px 1px 1px);clip: rect(1px, 1px, 1px, 1px);height: 1px;margin: -1px;overflow: hidden;padding: 0;position: absolute;width: 1px;}#sk-container-id-4 div.sk-estimator {font-family: monospace;background-color: #f0f8ff;border: 1px dotted black;border-radius: 0.25em;box-sizing: border-box;margin-bottom: 0.5em;}#sk-container-id-4 div.sk-estimator:hover {background-color: #d4ebff;}#sk-container-id-4 div.sk-parallel-item::after {content: \"\";width: 100%;border-bottom: 1px solid gray;flex-grow: 1;}#sk-container-id-4 div.sk-label:hover label.sk-toggleable__label {background-color: #d4ebff;}#sk-container-id-4 div.sk-serial::before {content: \"\";position: absolute;border-left: 1px solid gray;box-sizing: border-box;top: 0;bottom: 0;left: 50%;z-index: 0;}#sk-container-id-4 div.sk-serial {display: flex;flex-direction: column;align-items: center;background-color: white;padding-right: 0.2em;padding-left: 0.2em;position: relative;}#sk-container-id-4 div.sk-item {position: relative;z-index: 1;}#sk-container-id-4 div.sk-parallel {display: flex;align-items: stretch;justify-content: center;background-color: white;position: relative;}#sk-container-id-4 div.sk-item::before, #sk-container-id-4 div.sk-parallel-item::before {content: \"\";position: absolute;border-left: 1px solid gray;box-sizing: border-box;top: 0;bottom: 0;left: 50%;z-index: -1;}#sk-container-id-4 div.sk-parallel-item {display: flex;flex-direction: column;z-index: 1;position: relative;background-color: white;}#sk-container-id-4 div.sk-parallel-item:first-child::after {align-self: flex-end;width: 50%;}#sk-container-id-4 div.sk-parallel-item:last-child::after {align-self: flex-start;width: 50%;}#sk-container-id-4 div.sk-parallel-item:only-child::after {width: 0;}#sk-container-id-4 div.sk-dashed-wrapped {border: 1px dashed gray;margin: 0 0.4em 0.5em 0.4em;box-sizing: border-box;padding-bottom: 0.4em;background-color: white;}#sk-container-id-4 div.sk-label label {font-family: monospace;font-weight: bold;display: inline-block;line-height: 1.2em;}#sk-container-id-4 div.sk-label-container {text-align: center;}#sk-container-id-4 div.sk-container {/* jupyter's `normalize.less` sets `[hidden] { display: none; }` but bootstrap.min.css set `[hidden] { display: none !important; }` so we also need the `!important` here to be able to override the default hidden behavior on the sphinx rendered scikit-learn.org. See: https://github.com/scikit-learn/scikit-learn/issues/21755 */display: inline-block !important;position: relative;}#sk-container-id-4 div.sk-text-repr-fallback {display: none;}</style><div id=\"sk-container-id-4\" class=\"sk-top-container\"><div class=\"sk-text-repr-fallback\"><pre>LinearRegression()</pre><b>In a Jupyter environment, please rerun this cell to show the HTML representation or trust the notebook. <br />On GitHub, the HTML representation is unable to render, please try loading this page with nbviewer.org.</b></div><div class=\"sk-container\" hidden><div class=\"sk-item\"><div class=\"sk-estimator sk-toggleable\"><input class=\"sk-toggleable__control sk-hidden--visually\" id=\"sk-estimator-id-4\" type=\"checkbox\" checked><label for=\"sk-estimator-id-4\" class=\"sk-toggleable__label sk-toggleable__label-arrow\">LinearRegression</label><div class=\"sk-toggleable__content\"><pre>LinearRegression()</pre></div></div></div></div></div>"
      ],
      "text/plain": [
       "LinearRegression()"
      ]
     },
     "execution_count": 83,
     "metadata": {},
     "output_type": "execute_result"
    }
   ],
   "source": [
    "modl=LinearRegression()\n",
    "modl.fit(X_train,y_train)"
   ]
  },
  {
   "cell_type": "code",
   "execution_count": 85,
   "id": "6d596c2e",
   "metadata": {},
   "outputs": [
    {
     "name": "stdout",
     "output_type": "stream",
     "text": [
      "0.0020569637494379394 3.012444987897643\n"
     ]
    }
   ],
   "source": [
    "slope = modl.coef_[0]\n",
    "intercept = modl.intercept_\n",
    "print(slope, intercept)"
   ]
  },
  {
   "cell_type": "markdown",
   "id": "cfb2b903",
   "metadata": {},
   "source": [
    "### 3. Testing Your Model\n",
    "In the cell seen below, write the code you need to test your linear regression model. \n",
    "\n",
    "*Note, a model is considered a level 5 if it achieves at least 60% prediction accuracy or achieves an RMSE of 2 weeks or less.*"
   ]
  },
  {
   "cell_type": "code",
   "execution_count": 2,
   "id": "24f8b990",
   "metadata": {},
   "outputs": [],
   "source": [
    "# Test model here."
   ]
  },
  {
   "cell_type": "code",
   "execution_count": 103,
   "id": "235b264b-97da-400c-9a93-cfcd531b4e73",
   "metadata": {},
   "outputs": [],
   "source": [
    "pre=modl.predict(X_test)"
   ]
  },
  {
   "cell_type": "code",
   "execution_count": 105,
   "id": "2c966602-0ba9-4107-a675-60ffd5531fbb",
   "metadata": {},
   "outputs": [],
   "source": [
    "pre=[int(x) for x in pre]"
   ]
  },
  {
   "cell_type": "code",
   "execution_count": 107,
   "id": "55063fcd-b8e3-4f96-ad89-4d042d03431d",
   "metadata": {},
   "outputs": [],
   "source": [
    "y_test=list(y_test)"
   ]
  },
  {
   "cell_type": "code",
   "execution_count": 109,
   "id": "001d4ff8-0bfa-408b-a7fb-8c4e03887e6a",
   "metadata": {},
   "outputs": [
    {
     "name": "stdout",
     "output_type": "stream",
     "text": [
      "0.006666666666666667\n"
     ]
    }
   ],
   "source": [
    "count = 0\n",
    "for i in range(len(pre)):\n",
    "    if pre[i] == y_test[i]:\n",
    "        count =+ 1\n",
    "print(count/len(pre))"
   ]
  },
  {
   "cell_type": "code",
   "execution_count": null,
   "id": "d3e51ada-4a82-4d75-b702-a1897e9de38c",
   "metadata": {},
   "outputs": [],
   "source": []
  },
  {
   "cell_type": "markdown",
   "id": "343eb3f7",
   "metadata": {},
   "source": [
    "### 4. Final Answer\n",
    "\n",
    "In the first cell seen below, state the name of your predicted winner. \n",
    "In the second cell seen below, justify your prediction using an evaluation technique like RMSE or percent accuracy."
   ]
  },
  {
   "cell_type": "markdown",
   "id": "25533722",
   "metadata": {},
   "source": [
    "#### State the name of your predicted winner here."
   ]
  },
  {
   "cell_type": "markdown",
   "id": "e29adde2",
   "metadata": {},
   "source": [
    "#### Justify your prediction here."
   ]
  }
 ],
 "metadata": {
  "kernelspec": {
   "display_name": "anaconda-ai-2024.04-py310",
   "language": "python",
   "name": "conda-env-anaconda-ai-2024.04-py310-py"
  },
  "language_info": {
   "codemirror_mode": {
    "name": "ipython",
    "version": 3
   },
   "file_extension": ".py",
   "mimetype": "text/x-python",
   "name": "python",
   "nbconvert_exporter": "python",
   "pygments_lexer": "ipython3",
   "version": "3.10.13"
  }
 },
 "nbformat": 4,
 "nbformat_minor": 5
}
